{
 "cells": [
  {
   "cell_type": "code",
   "execution_count": 3,
   "id": "60f95393-9e09-417f-b48d-2f1c5719677f",
   "metadata": {},
   "outputs": [
    {
     "name": "stdout",
     "output_type": "stream",
     "text": [
      "YES\n"
     ]
    }
   ],
   "source": [
    "if 5 > 2:\n",
    "    print(\"YES\")"
   ]
  },
  {
   "cell_type": "code",
   "execution_count": 4,
   "id": "bbe068cc-c68b-448f-8833-c3a9ae42b97c",
   "metadata": {},
   "outputs": [
    {
     "name": "stdout",
     "output_type": "stream",
     "text": [
      "Printing String Variable:\n",
      "e\n"
     ]
    }
   ],
   "source": [
    "String1 = 'This sentence is false'\n",
    "print(\"Printing String Variable:\")\n",
    "print(String1[12])"
   ]
  },
  {
   "cell_type": "code",
   "execution_count": 7,
   "id": "948d548c-055e-41ad-9c82-6b0787fc33b9",
   "metadata": {},
   "outputs": [
    {
     "name": "stdout",
     "output_type": "stream",
     "text": [
      "a<b\n"
     ]
    }
   ],
   "source": [
    "a = 90\n",
    "b = 590\n",
    "if(a<b):\n",
    "    print(\"a<b\")\n",
    "else:\n",
    "    print(\"a>=b\")"
   ]
  },
  {
   "cell_type": "code",
   "execution_count": 37,
   "id": "14470ab7-e6d7-442b-862c-c8d09237ae02",
   "metadata": {},
   "outputs": [
    {
     "name": "stdout",
     "output_type": "stream",
     "text": [
      "yep\n"
     ]
    }
   ],
   "source": [
    "c = 800.0000000000000568\n",
    "d = 800\n",
    "if(c==d):\n",
    "    print(\"yep\")\n",
    "else:\n",
    "    print(\"nope\")"
   ]
  },
  {
   "cell_type": "code",
   "execution_count": 46,
   "id": "6ff950ff-fc9d-4775-ac51-6dfc06519f1e",
   "metadata": {},
   "outputs": [
    {
     "name": "stdout",
     "output_type": "stream",
     "text": [
      "False True\n"
     ]
    }
   ],
   "source": [
    "a1 = (900>800)\n",
    "a2 = (900<800)\n",
    "a3 = a1 & a2\n",
    "a4 = a1 & (not a2)\n",
    "print(a3, a4)"
   ]
  },
  {
   "cell_type": "code",
   "execution_count": 56,
   "id": "1b927216-6cf9-4e97-8c6f-118ec12e81ee",
   "metadata": {},
   "outputs": [
    {
     "name": "stdin",
     "output_type": "stream",
     "text": [
      "Quel est votre âge? 17.9\n"
     ]
    },
    {
     "name": "stdout",
     "output_type": "stream",
     "text": [
      "Pardon, vous ne pouvez pas entrer\n"
     ]
    }
   ],
   "source": [
    "age = input(\"Quel est votre âge?\")\n",
    "if float(age)< 18:\n",
    "    print(\"Pardon, vous ne pouvez pas entrer\")"
   ]
  },
  {
   "cell_type": "code",
   "execution_count": 70,
   "id": "efe125be-6f2d-4ca2-a2cd-818824b06203",
   "metadata": {},
   "outputs": [
    {
     "name": "stdout",
     "output_type": "stream",
     "text": [
      "Excellent\n",
      "90\n"
     ]
    }
   ],
   "source": [
    "import random\n",
    "num = random.randint (0 , 100)\n",
    "if num >= 85:\n",
    "    print(\"Excellent\")\n",
    "elif num >= 65:\n",
    "    print(\"Very good\")\n",
    "elif num >= 50:\n",
    "    print(\"Good/Pass\")\n",
    "else:\n",
    "    print(\"Fail\")\n",
    "print(num)"
   ]
  },
  {
   "cell_type": "code",
   "execution_count": 64,
   "id": "7760532a-f68b-4f91-b477-e2354278874b",
   "metadata": {},
   "outputs": [
    {
     "name": "stdout",
     "output_type": "stream",
     "text": [
      "1\n",
      "2\n",
      "3\n",
      "4\n",
      "5\n",
      "6\n",
      "7\n",
      "8\n",
      "9\n",
      "10\n",
      "11\n",
      "12\n"
     ]
    }
   ],
   "source": [
    "for a in range(12):\n",
    "    print(a+1)"
   ]
  },
  {
   "cell_type": "code",
   "execution_count": 73,
   "id": "1395f859-d4e3-49f7-a5e6-30f7d509ccf2",
   "metadata": {},
   "outputs": [
    {
     "name": "stdout",
     "output_type": "stream",
     "text": [
      "0.5\n",
      "2.25\n",
      "4.166666666666667\n",
      "6.125\n"
     ]
    }
   ],
   "source": [
    "co = 1\n",
    "while float(co) < 9:\n",
    "    print(co**2/(co+1))\n",
    "    co += 2"
   ]
  },
  {
   "cell_type": "code",
   "execution_count": 74,
   "id": "3e36027f-9513-4eb5-8aec-2a788b457f13",
   "metadata": {},
   "outputs": [
    {
     "name": "stdout",
     "output_type": "stream",
     "text": [
      "0\n",
      "2\n",
      "4\n"
     ]
    }
   ],
   "source": [
    "count = 1\n",
    "while float(count) < 10.3:\n",
    "    print(count-1)\n",
    "    if count**2 >= 25:\n",
    "        break\n",
    "    count += 2"
   ]
  },
  {
   "cell_type": "code",
   "execution_count": 75,
   "id": "cf20c163-08dd-464a-b0b5-e7e1bb4d680f",
   "metadata": {},
   "outputs": [
    {
     "name": "stdout",
     "output_type": "stream",
     "text": [
      "0\n",
      "2\n",
      "4\n",
      "6\n",
      "8\n"
     ]
    }
   ],
   "source": [
    "for i in range(10):\n",
    "    if i % 2:\n",
    "        continue\n",
    "\n",
    "    print(i)"
   ]
  },
  {
   "cell_type": "code",
   "execution_count": 78,
   "id": "05592b53-ae02-49ad-84f8-08dbb6529f9e",
   "metadata": {},
   "outputs": [
    {
     "name": "stdout",
     "output_type": "stream",
     "text": [
      "0\n",
      "1\n",
      "1\n",
      "2\n",
      "3\n",
      "5\n",
      "8\n",
      "13\n",
      "21\n",
      "34\n",
      "55\n"
     ]
    }
   ],
   "source": [
    "#Exercise 1\n",
    "F0 = 0\n",
    "F1 = 1\n",
    "print(F0)\n",
    "print(F1)\n",
    "for i in range(9):\n",
    "    F2 = F0 + F1\n",
    "    print(F2)\n",
    "    F0 += (F1-F0)\n",
    "    F1 += (F2-F1)"
   ]
  },
  {
   "cell_type": "code",
   "execution_count": 80,
   "id": "463a3e5f-dee3-475e-9b86-f6e9ab6d22e4",
   "metadata": {},
   "outputs": [
    {
     "name": "stdout",
     "output_type": "stream",
     "text": [
      "How are you, John? How's your health?\n"
     ]
    }
   ],
   "source": [
    "def askhealth(name):\n",
    "    print(\"How are you, \" + name + \"? How's your health?\")\n",
    "askhealth(\"John\")"
   ]
  },
  {
   "cell_type": "code",
   "execution_count": 86,
   "id": "bed6b3eb-9699-4871-a9e8-62f43b957768",
   "metadata": {},
   "outputs": [
    {
     "name": "stdout",
     "output_type": "stream",
     "text": [
      "How are you Bro? How's your spouse doing?\n"
     ]
    }
   ],
   "source": [
    "def askfamily(name):\n",
    "    return (\"How are you \" + name + \"? How's your spouse doing?\")\n",
    "wife=askfamily(\"Bro\")\n",
    "print(wife)"
   ]
  },
  {
   "cell_type": "code",
   "execution_count": null,
   "id": "a69a83fb-30ad-4a88-9561-ea167e255557",
   "metadata": {},
   "outputs": [],
   "source": []
  }
 ],
 "metadata": {
  "kernelspec": {
   "display_name": "Python 3 (ipykernel)",
   "language": "python",
   "name": "python3"
  },
  "language_info": {
   "codemirror_mode": {
    "name": "ipython",
    "version": 3
   },
   "file_extension": ".py",
   "mimetype": "text/x-python",
   "name": "python",
   "nbconvert_exporter": "python",
   "pygments_lexer": "ipython3",
   "version": "3.11.5"
  }
 },
 "nbformat": 4,
 "nbformat_minor": 5
}
